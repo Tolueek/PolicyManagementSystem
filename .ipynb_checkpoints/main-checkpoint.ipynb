{
 "cells": [
  {
   "cell_type": "code",
   "execution_count": 28,
   "id": "e7dd979e-7de1-4c1b-821a-9d12619fb998",
   "metadata": {},
   "outputs": [
    {
     "ename": "ModuleNotFoundError",
     "evalue": "No module named 'policyholder'",
     "output_type": "error",
     "traceback": [
      "\u001b[0;31m---------------------------------------------------------------------------\u001b[0m",
      "\u001b[0;31mModuleNotFoundError\u001b[0m                       Traceback (most recent call last)",
      "Cell \u001b[0;32mIn[28], line 2\u001b[0m\n\u001b[1;32m      1\u001b[0m \u001b[38;5;66;03m# Assuming the classes are defined somewhere else, or importing them from respective modules\u001b[39;00m\n\u001b[0;32m----> 2\u001b[0m \u001b[38;5;28;01mfrom\u001b[39;00m \u001b[38;5;21;01mpolicyholder\u001b[39;00m \u001b[38;5;28;01mimport\u001b[39;00m Policyholder\n\u001b[1;32m      3\u001b[0m \u001b[38;5;28;01mfrom\u001b[39;00m \u001b[38;5;21;01mproduct\u001b[39;00m \u001b[38;5;28;01mimport\u001b[39;00m Product\n\u001b[1;32m      4\u001b[0m \u001b[38;5;28;01mfrom\u001b[39;00m \u001b[38;5;21;01mpayment\u001b[39;00m \u001b[38;5;28;01mimport\u001b[39;00m Payment\n",
      "\u001b[0;31mModuleNotFoundError\u001b[0m: No module named 'policyholder'"
     ]
    }
   ],
   "source": [
    "# importing\n",
    "from policyholder import Policyholder\n",
    "from product import Product\n",
    "from payment import Payment\n",
    "\n",
    "# policyholders\n",
    "policyholder1 = Policyholder(1, \"Tolu\")\n",
    "policyholder2 = Policyholder(2, \"Raphael\")\n",
    "\n",
    "# products\n",
    "product1 = Product(101, \"Health Insurance\", 500)\n",
    "product2 = Product(102, \"Car Insurance\", 300)\n",
    "\n",
    "# Registering products to policyholders\n",
    "policyholder1.register_product(product1.product_id)\n",
    "policyholder2.register_product(product2.product_id)\n",
    "\n",
    "# Create and process payments\n",
    "payment1 = Payment(201, policyholder1.policyholder_id, product1.product_id, product1.price)\n",
    "payment1.process_payment()\n",
    "\n",
    "payment2 = Payment(202, policyholder2.policyholder_id, product2.product_id, product2.price)\n",
    "payment2.process_payment()\n",
    "\n",
    "# policyholders details\n",
    "print(\"Policyholder 1 Details:\", policyholder1.get_details())\n",
    "print(\"Policyholder 2 Details:\", policyholder2.get_details())\n",
    "\n",
    "# product details\n",
    "print(\"Product 1 Details:\", product1.get_details())\n",
    "print(\"Product 2 Details:\", product2.get_details())\n",
    "\n",
    "# payment details\n",
    "print(\"Payment 1 Details:\", payment1.get_details())\n",
    "print(\"Payment 2 Details:\", payment2.get_details())\n",
    "\n",
    "\n",
    "\n"
   ]
  },
  {
   "cell_type": "code",
   "execution_count": null,
   "id": "1887e154-c031-4ddf-a5ab-81905b8fc510",
   "metadata": {},
   "outputs": [],
   "source": []
  },
  {
   "cell_type": "code",
   "execution_count": null,
   "id": "e2f3e728-ad22-4f08-8dc6-5d5260014f27",
   "metadata": {},
   "outputs": [],
   "source": []
  }
 ],
 "metadata": {
  "kernelspec": {
   "display_name": "Python 3 (ipykernel)",
   "language": "python",
   "name": "python3"
  },
  "language_info": {
   "codemirror_mode": {
    "name": "ipython",
    "version": 3
   },
   "file_extension": ".py",
   "mimetype": "text/x-python",
   "name": "python",
   "nbconvert_exporter": "python",
   "pygments_lexer": "ipython3",
   "version": "3.12.7"
  }
 },
 "nbformat": 4,
 "nbformat_minor": 5
}
