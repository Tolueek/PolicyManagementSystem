{
 "cells": [
  {
   "cell_type": "code",
   "execution_count": 1,
   "id": "acce7a04-84f6-4cde-a5d9-f012c5fb1c35",
   "metadata": {},
   "outputs": [],
   "source": [
    "class Product:\n",
    "    def __init__(self, product_id, name, price):\n",
    "       \n",
    "       # Initialize a product with an ID, name, price, and default active status#\n",
    "        \n",
    "        self.product_id = product_id\n",
    "        self.name = name\n",
    "        self.price = price\n",
    "        self.status = \"active\"\n",
    "\n",
    "    def update_product(self, name=None, price=None, status=None):\n",
    "       \n",
    "        #product details update#\n",
    "        \n",
    "        if name:\n",
    "            self.name = name\n",
    "        if price:\n",
    "            self.price = price\n",
    "        if status:\n",
    "            self.status = status\n",
    "\n",
    "    def suspend_product(self):\n",
    "    \n",
    "        #product suspension#\n",
    "       \n",
    "        self.status = \"suspended\"\n",
    "\n",
    "    def reactivate_product(self):\n",
    "       \n",
    "        #Reactivate the product#\n",
    "        \n",
    "        self.status = \"active\"\n",
    "\n",
    "    def get_details(self):\n",
    "        \n",
    "        #Return product details as a dictionary#\n",
    "        \n",
    "        return {\n",
    "            \"Product ID\": self.product_id,\n",
    "            \"Name\": self.name,\n",
    "            \"Price\": self.price,\n",
    "            \"Status\": self.status,\n",
    "        }\n",
    "\n"
   ]
  },
  {
   "cell_type": "code",
   "execution_count": null,
   "id": "88ce290e-c1fd-422d-ba8a-6ba5a7659c2c",
   "metadata": {},
   "outputs": [],
   "source": []
  }
 ],
 "metadata": {
  "kernelspec": {
   "display_name": "Python 3 (ipykernel)",
   "language": "python",
   "name": "python3"
  },
  "language_info": {
   "codemirror_mode": {
    "name": "ipython",
    "version": 3
   },
   "file_extension": ".py",
   "mimetype": "text/x-python",
   "name": "python",
   "nbconvert_exporter": "python",
   "pygments_lexer": "ipython3",
   "version": "3.12.7"
  }
 },
 "nbformat": 4,
 "nbformat_minor": 5
}
