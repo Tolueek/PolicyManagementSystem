{
 "cells": [
  {
   "cell_type": "markdown",
   "id": "048c4542-6f2a-4b17-a912-2a1069116fbd",
   "metadata": {},
   "source": [
    "# Policy Management System\n",
    "\n",
    "## Overview\n",
    "This project simulates a policy management system for an insurance company. The system includes functionalities for managing policyholders, products, and payments.\n",
    "\n",
    "## Features\n",
    "- **Policyholder Management:** Add, suspend, reactivate policyholders.\n",
    "- **Product Management:** Create, update, suspend products.\n",
    "- **Payment Management:** Process payments, apply penalties, and send reminders.\n",
    "\n",
    "## How to Use\n",
    "1. Open the Jupyter Notebook.\n",
    "2. Run all cells sequentially.\n",
    "3. The final cell demonstrates the system by displaying details for two policyholders, their products, and payment status.\n",
    "\n",
    "## Requirements\n",
    "- Python 3.x\n",
    "- Jupyter Notebook\n",
    "\n",
    "## Contact\n",
    "For questions or contributions, please contact [tolueek@github.com].\n"
   ]
  }
 ],
 "metadata": {
  "kernelspec": {
   "display_name": "Python 3 (ipykernel)",
   "language": "python",
   "name": "python3"
  },
  "language_info": {
   "codemirror_mode": {
    "name": "ipython",
    "version": 3
   },
   "file_extension": ".py",
   "mimetype": "text/x-python",
   "name": "python",
   "nbconvert_exporter": "python",
   "pygments_lexer": "ipython3",
   "version": "3.12.7"
  }
 },
 "nbformat": 4,
 "nbformat_minor": 5
}
