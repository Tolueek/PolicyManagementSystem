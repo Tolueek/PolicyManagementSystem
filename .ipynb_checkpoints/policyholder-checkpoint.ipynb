{
 "cells": [
  {
   "cell_type": "code",
   "execution_count": 7,
   "id": "964769b1-90fc-4255-8ae2-536472ba2f14",
   "metadata": {},
   "outputs": [],
   "source": [
    "class Policyholder:\n",
    "    \n",
    "    def __init__(self, policyholder_id, name):\n",
    "        \n",
    "        #Policyholder with an ID, name, and default active status#\n",
    "        \n",
    "        self.policyholder_id = policyholder_id\n",
    "        self.name = name\n",
    "        self.status = \"active\"\n",
    "        self.products = []  # List to track registered product IDs\n",
    "\n",
    "    def register_product(self, product_id):\n",
    "       #product registration to the policyholder#\n",
    "       \n",
    "        self.products.append(product_id)\n",
    "\n",
    "    def suspend_policyholder(self):\n",
    "        \n",
    "        #policyholder's account suspension#\n",
    "       \n",
    "        self.status = \"suspended\"\n",
    "\n",
    "    def reactivate_policyholder(self):\n",
    "       \n",
    "        #Reactivate the policyholder's account#\n",
    "      \n",
    "        self.status = \"active\"\n",
    "\n",
    "    def get_details(self):\n",
    "      \n",
    "        #Return policyholder details as a dictionary#\n",
    "     \n",
    "        return {\n",
    "            \"Policyholder ID\": self.policyholder_id,\n",
    "            \"Name\": self.name,\n",
    "            \"Status\": self.status,\n",
    "            \"Products\": self.products,\n",
    "        }\n",
    "\n",
    "\n"
   ]
  },
  {
   "cell_type": "code",
   "execution_count": null,
   "id": "e6c715c3-a562-47fd-8b4b-21b6aa1d485c",
   "metadata": {},
   "outputs": [],
   "source": []
  }
 ],
 "metadata": {
  "kernelspec": {
   "display_name": "Python 3 (ipykernel)",
   "language": "python",
   "name": "python3"
  },
  "language_info": {
   "codemirror_mode": {
    "name": "ipython",
    "version": 3
   },
   "file_extension": ".py",
   "mimetype": "text/x-python",
   "name": "python",
   "nbconvert_exporter": "python",
   "pygments_lexer": "ipython3",
   "version": "3.12.7"
  }
 },
 "nbformat": 4,
 "nbformat_minor": 5
}
